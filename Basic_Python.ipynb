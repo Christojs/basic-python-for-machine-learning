{
  "nbformat": 4,
  "nbformat_minor": 0,
  "metadata": {
    "colab": {
      "provenance": [],
      "authorship_tag": "ABX9TyPMUodJu4sAWUtRyKKh3VP9",
      "include_colab_link": true
    },
    "kernelspec": {
      "name": "python3",
      "display_name": "Python 3"
    },
    "language_info": {
      "name": "python"
    }
  },
  "cells": [
    {
      "cell_type": "markdown",
      "metadata": {
        "id": "view-in-github",
        "colab_type": "text"
      },
      "source": [
        "<a href=\"https://colab.research.google.com/github/Christojs/basic-python-for-machine-learning/blob/main/Basic_Python.ipynb\" target=\"_parent\"><img src=\"https://colab.research.google.com/assets/colab-badge.svg\" alt=\"Open In Colab\"/></a>"
      ]
    },
    {
      "cell_type": "markdown",
      "source": [
        "# Introduction to `Python`\n",
        "\n",
        "First program: Displays a Hello"
      ],
      "metadata": {
        "id": "CZYai5Sd7Jkv"
      }
    },
    {
      "cell_type": "code",
      "source": [
        "print(\"Hello\")"
      ],
      "metadata": {
        "colab": {
          "base_uri": "https://localhost:8080/"
        },
        "id": "0vhOFAUz74jN",
        "outputId": "46452927-2ec4-462f-ac70-d667f35a2614"
      },
      "execution_count": 1,
      "outputs": [
        {
          "output_type": "stream",
          "name": "stdout",
          "text": [
            "Hello\n"
          ]
        }
      ]
    },
    {
      "cell_type": "markdown",
      "source": [
        ">Program to assign an integer and display it"
      ],
      "metadata": {
        "id": "0IUnrtDX9OlF"
      }
    },
    {
      "cell_type": "code",
      "source": [
        "a=10\n",
        "print(\"the value of variable a is:\",a)"
      ],
      "metadata": {
        "colab": {
          "base_uri": "https://localhost:8080/"
        },
        "id": "Bn2p8s9E8qMN",
        "outputId": "d1139741-0794-436a-afa8-b352a5990d4d"
      },
      "execution_count": 3,
      "outputs": [
        {
          "output_type": "stream",
          "name": "stdout",
          "text": [
            "the value of variable a is: 10\n"
          ]
        }
      ]
    },
    {
      "cell_type": "markdown",
      "source": [
        "Program to find sum of 2 numbers"
      ],
      "metadata": {
        "id": "HcIrmylp9vEF"
      }
    },
    {
      "cell_type": "code",
      "source": [
        "a=10\n",
        "b=24\n",
        "sum=a+b\n",
        "print(\"the sum of number is:\",sum)"
      ],
      "metadata": {
        "colab": {
          "base_uri": "https://localhost:8080/"
        },
        "id": "1LMwkWLJ95Pt",
        "outputId": "32f4ecb6-66f0-4d04-be3b-1ace5b97af0c"
      },
      "execution_count": 4,
      "outputs": [
        {
          "output_type": "stream",
          "name": "stdout",
          "text": [
            "the sum of number is: 34\n"
          ]
        }
      ]
    },
    {
      "cell_type": "markdown",
      "source": [
        "Read 2 numbers from user and find the sum"
      ],
      "metadata": {
        "id": "Dym2r9Su-f7k"
      }
    },
    {
      "cell_type": "code",
      "source": [
        "a=int(input(\"enter first element:\"))    #here input function read values as string.int() cast it to integer\n",
        "b=int(input(\"enter second element:\"))"
      ],
      "metadata": {
        "colab": {
          "base_uri": "https://localhost:8080/"
        },
        "id": "ChJjy-2U-_B8",
        "outputId": "bb19653e-4b47-4e99-89ba-02915e3dda3a"
      },
      "execution_count": 10,
      "outputs": [
        {
          "name": "stdout",
          "output_type": "stream",
          "text": [
            "enter first element:2\n",
            "enter second element:20\n"
          ]
        }
      ]
    },
    {
      "cell_type": "code",
      "source": [
        "#dispaly and b\n",
        "print(a)"
      ],
      "metadata": {
        "colab": {
          "base_uri": "https://localhost:8080/"
        },
        "id": "3NvtiDf8_bU0",
        "outputId": "f20074c5-b4f1-4404-9940-160cd2748528"
      },
      "execution_count": 11,
      "outputs": [
        {
          "output_type": "stream",
          "name": "stdout",
          "text": [
            "2\n"
          ]
        }
      ]
    },
    {
      "cell_type": "code",
      "source": [
        "s=a+b\n",
        "print(\"sum is\",s)"
      ],
      "metadata": {
        "colab": {
          "base_uri": "https://localhost:8080/"
        },
        "id": "rTS9oqqD_mYU",
        "outputId": "f4442d1e-1c3e-4dc7-cda4-f4ec3eb8fac4"
      },
      "execution_count": 12,
      "outputs": [
        {
          "output_type": "stream",
          "name": "stdout",
          "text": [
            "sum is 22\n"
          ]
        }
      ]
    }
  ]
}